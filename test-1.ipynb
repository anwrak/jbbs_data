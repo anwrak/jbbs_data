{
 "cells": [
  {
   "cell_type": "code",
   "execution_count": 1,
   "metadata": {},
   "outputs": [
    {
     "ename": "",
     "evalue": "",
     "output_type": "error",
     "traceback": [
      "\u001b[1;31mThe Kernel crashed while executing code in the current cell or a previous cell. \n",
      "\u001b[1;31mPlease review the code in the cell(s) to identify a possible cause of the failure. \n",
      "\u001b[1;31mClick <a href='https://aka.ms/vscodeJupyterKernelCrash'>here</a> for more info. \n",
      "\u001b[1;31mView Jupyter <a href='command:jupyter.viewOutput'>log</a> for further details."
     ]
    }
   ],
   "source": [
    "import pandas as pd\n",
    "\n",
    "#import people data from csv\n",
    "import_people = pd.read_csv('datafiles/People.csv', encoding='latin-1')\n",
    "import_generations = pd.read_csv('datafiles/custom/generation.csv', encoding='latin-1')\n",
    "import_juniors = pd.read_csv('datafiles/custom/juniors.csv', encoding='latin-1')\n",
    "\n",
    "def jr(nm, id):\n",
    "    if id in import_juniors:\n",
    "        return nm + ' Jr.'\n",
    "    else:\n",
    "        return nm\n",
    "\n",
    "def gen(x):\n",
    "    if 1700 <= x <= 1882:\n",
    "        return 'Pre-Generational'\n",
    "    elif 1883 <= x <= 1900:\n",
    "        return 'Lost Generation'\n",
    "    elif 1901 <= x <= 1927:\n",
    "        return 'Greatest Generation'\n",
    "    elif 1928 <= x <= 1945:\n",
    "        return 'Silent Generation'\n",
    "    elif 1946 <= x <= 1964:\n",
    "        return 'Baby Boomers'\n",
    "    elif 1965 <= x <= 1980:\n",
    "        return 'Gen X'\n",
    "    elif 1981 <= x <= 1996:\n",
    "        return 'Millenial'\n",
    "    elif 1997 <= x <= 2012:\n",
    "        return 'Gen Z'\n",
    "    elif 2013 <= x <= 2025:\n",
    "        return 'Gen Alpha'\n",
    "    else:\n",
    "        return 'Unknown'\n",
    "\n",
    "\n",
    "#remove non-players, remove unneeded columns\n",
    "people_df = import_people[~import_people['playerID'].str.contains('99')].drop(['ID', 'deathYear', 'deathMonth', 'deathDay', 'deathCountry', 'deathState', 'deathCity', 'nameGiven'], axis=1)\n",
    "people_df['nameLast'] = people_df[['playerID', 'nameLast']].apply(lambda x: jr(x['nameLast'], x['playerID']), axis=1)\n",
    "\n",
    "people_df"
   ]
  }
 ],
 "metadata": {
  "kernelspec": {
   "display_name": ".venv",
   "language": "python",
   "name": "python3"
  },
  "language_info": {
   "codemirror_mode": {
    "name": "ipython",
    "version": 3
   },
   "file_extension": ".py",
   "mimetype": "text/x-python",
   "name": "python",
   "nbconvert_exporter": "python",
   "pygments_lexer": "ipython3",
   "version": "3.12.0"
  }
 },
 "nbformat": 4,
 "nbformat_minor": 2
}
