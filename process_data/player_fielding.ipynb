{
 "cells": [
  {
   "cell_type": "code",
   "execution_count": 12,
   "metadata": {},
   "outputs": [],
   "source": [
    "import pandas as pd\n",
    "import numpy as np\n",
    "import os\n",
    "from dotenv import load_dotenv \n",
    "from sqlalchemy import create_engine, text\n",
    "from datetime import datetime\n",
    "from dateutil.relativedelta import relativedelta\n",
    "import sys \n",
    "sys.path.append('../maths/') \n",
    "from baseball_stats import BasicFielding"
   ]
  },
  {
   "cell_type": "code",
   "execution_count": null,
   "metadata": {},
   "outputs": [],
   "source": [
    "k = ['playerID', 'birthYear', 'birthMonth', 'birthDay']\n",
    "import_people = pd.read_csv('../datafiles/People.csv', encoding='latin-1', usecols=k)\n",
    "import_fielding = pd.read_csv('../datafiles/Fielding.csv', encoding='latin-1')\n",
    "people = import_people.copy()\n",
    "\n",
    "#fix fucky dates\n",
    "people['birthYear'] = people['birthYear'].fillna(1875).astype(int)\n",
    "people['birthMonth'] = people['birthMonth'].fillna(1).astype(int)\n",
    "people['birthDay'] = people['birthDay'].fillna(1).astype(int)\n",
    "\n",
    "#create a birthdate column so we can calulate an age at start of season\n",
    "people['birthdate'] = people.apply(lambda x: f\"\"\"{x['birthYear']}-{x['birthMonth']}-{x['birthDay']}\"\"\", axis=1)\n",
    "people['birthdate'] = pd.to_datetime(people['birthdate'], errors='coerce')\n",
    "\n",
    "#merge the people and batting dataframes\n",
    "fielding = people.copy().merge(import_fielding, on='playerID', how ='inner')\n",
    "fielding['season_start'] = fielding.apply(lambda x: f\"\"\"{x['yearID']}-04-01\"\"\", axis=1)\n",
    "fielding['season_start'] = pd.to_datetime(fielding['season_start'], errors='coerce')\n",
    "fielding['age'] = fielding.apply(lambda x: relativedelta(x['season_start'], x['birthdate']).years, axis=1)\n",
    "\n",
    "fielding = fielding.drop(columns = ['birthYear', 'birthMonth', 'birthdate', 'birthDay', 'season_start', 'stint', 'teamID', 'lgID', 'ZR', 'POS'])\n",
    "fielding.rename(columns = {'yearID':'Years', 'InnOuts':'IPO', 'SB':'SBA', 'CS':'CCS', 'GS':'S'}, inplace=True)\n",
    "\n",
    "context_cols = ['playerID', 'age', 'Years']\n",
    "data_cols = fielding.columns.difference(context_cols)\n",
    "\n",
    "fielding[data_cols] = fielding[data_cols].fillna(0)\n",
    "fielding = fielding[context_cols + data_cols.tolist()]\n",
    "\n",
    "fielding = fielding.groupby(['playerID', 'age', 'Years']).sum().reset_index()\n",
    "\n",
    "#easy adding shit up\n",
    "fielding = BasicFielding.fieldingSums(fielding)"
   ]
  },
  {
   "cell_type": "code",
   "execution_count": null,
   "metadata": {},
   "outputs": [],
   "source": [
    "career_df = fielding.copy()\n",
    "career_df = career_df.groupby(['playerID']).agg({\n",
    "    'age':'mean',\n",
    "    'Years':'count',\n",
    "    'A':'sum',\n",
    "    'CCS':'sum',\n",
    "    'DP':'sum',\n",
    "    'E':'sum',\n",
    "    'G':'sum',\n",
    "    'S':'sum',\n",
    "    'IPO':'sum',\n",
    "    'PB':'sum',\n",
    "    'PO':'sum',\n",
    "    'IPO':'sum',\n",
    "    'SBA':'sum',\n",
    "    'WP':'sum',\n",
    "    'IP':'sum',\n",
    "    'TC':'sum',\n",
    "    'CA':'sum',\n",
    "    'SBAT':'sum'\n",
    "}).reset_index()\n",
    "\n",
    "career_df['age'] = career_df['age'].round(0).astype(int)"
   ]
  },
  {
   "cell_type": "code",
   "execution_count": 15,
   "metadata": {},
   "outputs": [],
   "source": [
    "avg162_df = career_df.copy()\n",
    "\n",
    "stat_cols = avg162_df.columns.difference(['playerID', 'age', 'Years'])\n",
    "avg162_df[stat_cols] = avg162_df[avg162_df['G'] > 0][stat_cols].div(avg162_df['G'], axis=0).mul(162).round(2)\n",
    "avg162_df.insert(0, 'rowType', '162Avg')\n"
   ]
  },
  {
   "cell_type": "code",
   "execution_count": 16,
   "metadata": {},
   "outputs": [],
   "source": [
    "norm_df = career_df.copy()\n",
    "stat_cols = norm_df.columns.difference(['playerID', 'age', 'Years'])\n",
    "norm_df[stat_cols] = norm_df[norm_df['IP'] > 0][stat_cols].div(norm_df['IP'], axis=0).mul(9).round(2)\n",
    "norm_df.insert(0, 'rowType', 'normalized')"
   ]
  },
  {
   "cell_type": "code",
   "execution_count": 17,
   "metadata": {},
   "outputs": [],
   "source": [
    "#merge all but season average and caluclate the percentages and ratios\n",
    "\n",
    "season_df = fielding.copy()\n",
    "season_df.insert(0, 'rowType', 'season')\n",
    "career_df.insert(0, 'rowType', 'career')\n",
    "\n",
    "most_fielding = pd.concat([season_df, career_df, avg162_df, norm_df], ignore_index=True)\n",
    "\n",
    "most_fielding = BasicFielding.fieldingRatios(most_fielding)"
   ]
  },
  {
   "cell_type": "code",
   "execution_count": 18,
   "metadata": {},
   "outputs": [],
   "source": [
    "#create rows for season average\n",
    "season_avg_df = most_fielding[most_fielding['rowType'] == 'season'].copy()\n",
    "season_avg_df = season_avg_df.drop(['rowType'], axis=1).groupby(['playerID']).mean().round(4).reset_index()\n",
    "\n",
    "season_avg_df['age'] = season_avg_df['age'].round(0).astype(int)\n",
    "season_avg_df['Years'] = season_avg_df['Years'].round(0).astype(int)\n",
    "season_avg_df.insert(0, 'rowType', 'seasAvg')\n",
    "\n",
    "final_fielding = pd.concat([most_fielding, season_avg_df], ignore_index=True)"
   ]
  },
  {
   "cell_type": "code",
   "execution_count": 20,
   "metadata": {},
   "outputs": [],
   "source": [
    "load_dotenv()\n",
    "\n",
    "db_user=os.getenv('jbbs_db_user')\n",
    "db_pass=os.getenv('jbbs_db_password')\n",
    "db_host=os.getenv('jbbs_db_host')\n",
    "db_name=os.getenv('jbbs_db_name')\n",
    "\n",
    "engine = create_engine(\n",
    "    f'mysql+mysqlconnector://{db_user}:{db_pass}@{db_host}/{db_name}',\n",
    "    echo=False,\n",
    "    pool_size=5,      # Maximum number of connections in the pool\n",
    "    max_overflow=0,   # Prevents creating more connections than `pool_size`\n",
    "    pool_recycle=600,\n",
    "    pool_pre_ping=True\n",
    ")\n",
    "\n",
    "with engine.connect() as conn:\n",
    "    conn.rollback() \n",
    "    final_fielding.to_sql('player_fielding_new', con=engine, if_exists='replace', index=False, chunksize=500)\n",
    "    conn.execute(text('create index idx_playerid on player_fielding_new(playerID);'))\n",
    "    conn.execute(text('create index idx_rowType on player_fielding_new(rowType);'))\n",
    "    conn.execute(text('create index idx_age on player_fielding_new(age);'))\n",
    "    conn.execute(text('create index idx_years on player_fielding_new(Years);'))\n"
   ]
  }
 ],
 "metadata": {
  "kernelspec": {
   "display_name": ".venv",
   "language": "python",
   "name": "python3"
  },
  "language_info": {
   "codemirror_mode": {
    "name": "ipython",
    "version": 3
   },
   "file_extension": ".py",
   "mimetype": "text/x-python",
   "name": "python",
   "nbconvert_exporter": "python",
   "pygments_lexer": "ipython3",
   "version": "3.9.2"
  }
 },
 "nbformat": 4,
 "nbformat_minor": 2
}
