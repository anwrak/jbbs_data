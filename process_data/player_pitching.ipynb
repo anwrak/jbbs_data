{
 "cells": [
  {
   "cell_type": "code",
   "execution_count": 9,
   "metadata": {},
   "outputs": [],
   "source": [
    "import pandas as pd\n",
    "import numpy as np\n",
    "import os\n",
    "from dotenv import load_dotenv \n",
    "from sqlalchemy import create_engine\n",
    "from datetime import datetime\n",
    "from dateutil.relativedelta import relativedelta\n",
    "import sys \n",
    "sys.path.append('../maths/') \n",
    "from baseball_stats import BasicPitching"
   ]
  },
  {
   "cell_type": "code",
   "execution_count": null,
   "metadata": {},
   "outputs": [],
   "source": [
    "k = ['playerID', 'birthYear', 'birthMonth', 'birthDay']\n",
    "import_people = pd.read_csv('../datafiles/People.csv', encoding='latin-1', usecols=k)\n",
    "import_pitching = pd.read_csv('../datafiles/Pitching.csv', encoding='latin-1')\n",
    "people = import_people.copy()\n",
    "\n",
    "#fix fucky dates\n",
    "people['birthYear'] = people['birthYear'].fillna(1875).astype(int)\n",
    "people['birthMonth'] = people['birthMonth'].fillna(1).astype(int)\n",
    "people['birthDay'] = people['birthDay'].fillna(1).astype(int)\n",
    "\n",
    "#create a birthdate column so we can calulate an age at start of season\n",
    "people['birthdate'] = people.apply(lambda x: f\"\"\"{x['birthYear']}-{x['birthMonth']}-{x['birthDay']}\"\"\", axis=1)\n",
    "people['birthdate'] = pd.to_datetime(people['birthdate'], errors='coerce')\n",
    "\n",
    "#merge the people and batting dataframes\n",
    "pitching = people.copy().merge(import_pitching, on='playerID', how ='inner')\n",
    "pitching['season_start'] = pitching.apply(lambda x: f\"\"\"{x['yearID']}-04-01\"\"\", axis=1)\n",
    "pitching['season_start'] = pd.to_datetime(pitching['season_start'], errors='coerce')\n",
    "pitching['age'] = pitching.apply(lambda x: relativedelta(x['season_start'], x['birthdate']).years, axis=1)\n",
    "\n",
    "pitching = pitching.drop(columns = ['birthYear', 'birthMonth', 'birthdate', 'birthDay', 'stint', 'teamID', 'lgID', 'season_start', 'BAOpp', 'ERA'])\n",
    "pitching.rename(columns = {'yearID':'Years', 'IPouts':'IPO', 'BFP':'BF', 'SO':'K'}, inplace=True)\n",
    "\n",
    "context_cols = ['playerID', 'age', 'Years']\n",
    "data_cols = pitching.columns.difference(context_cols)\n",
    "\n",
    "pitching[data_cols] = pitching[data_cols].fillna(0)\n",
    "pitching = pitching[context_cols + data_cols.tolist()]\n",
    "\n",
    "#easy adding shit up\n",
    "pitching['IP'] = BasicPitching.calc_ip(pitching)\n",
    "pitching['DECI'] = BasicPitching.calc_decisions(pitching)\n",
    "pitching['NODE'] = BasicPitching.calc_no_decisions(pitching)\n",
    "pitching['PAB'] = BasicPitching.calc_pab(pitching)\n",
    "\n",
    "pitching.head(10)"
   ]
  },
  {
   "cell_type": "code",
   "execution_count": null,
   "metadata": {},
   "outputs": [],
   "source": [
    "career_df = pitching.copy()\n",
    "career_df = career_df.groupby(['playerID']).agg({\n",
    "    'age':'mean',\n",
    "    'Years':'count',\n",
    "    'BB':'sum',\n",
    "    'BF':'sum',\n",
    "    'BK':'sum',\n",
    "    'CG':'sum',\n",
    "    'ER':'sum',\n",
    "    'G':'sum',\n",
    "    'GF':'sum',\n",
    "    'GIDP':'sum',\n",
    "    'GS':'sum',\n",
    "    'H':'sum',\n",
    "    'HBP':'sum',\n",
    "    'HR':'sum',\n",
    "    'IBB':'sum',\n",
    "    'IPO':'sum',\n",
    "    'K':'sum',\n",
    "    'L':'sum',\n",
    "    'R':'sum',\n",
    "    'SF':'sum',\n",
    "    'SH':'sum',\n",
    "    'SHO':'sum',\n",
    "    'SV':'sum',\n",
    "    'W':'sum',\n",
    "    'WP':'sum',\n",
    "    'IP':'sum',\n",
    "    'DECI':'sum',\n",
    "    'NODE':'sum',\n",
    "    'PAB':'sum'\n",
    "})\n",
    "\n",
    "career_df['age'] = career_df['age'].round(0).astype(int)\n",
    "\n",
    "career_df.head(10)\n"
   ]
  },
  {
   "cell_type": "code",
   "execution_count": null,
   "metadata": {},
   "outputs": [],
   "source": [
    "avg162_df = career_df.copy()\n",
    "\n",
    "stat_cols = avg162_df.columns.difference(['playerID', 'age', 'Years'])\n",
    "avg162_df[stat_cols] = avg162_df[avg162_df['G'] > 0][stat_cols].div(avg162_df['G'], axis=0).mul(56).round(2)\n",
    "avg162_df.insert(0, 'rowType', '162Avg')\n",
    "\n",
    "avg162_df.head(10)\n"
   ]
  },
  {
   "cell_type": "code",
   "execution_count": null,
   "metadata": {},
   "outputs": [],
   "source": [
    "norm_df = career_df.copy()\n",
    "stat_cols = norm_df.columns.difference(['playerID', 'age', 'Years'])\n",
    "norm_df[stat_cols] = norm_df[norm_df['IP'] > 0][stat_cols].div(norm_df['IP'], axis=0).mul(9).round(2)\n",
    "norm_df.insert(0, 'rowType', 'normalized')\n",
    "\n",
    "norm_df.head(10)"
   ]
  }
 ],
 "metadata": {
  "kernelspec": {
   "display_name": ".venv",
   "language": "python",
   "name": "python3"
  },
  "language_info": {
   "codemirror_mode": {
    "name": "ipython",
    "version": 3
   },
   "file_extension": ".py",
   "mimetype": "text/x-python",
   "name": "python",
   "nbconvert_exporter": "python",
   "pygments_lexer": "ipython3",
   "version": "3.9.2"
  }
 },
 "nbformat": 4,
 "nbformat_minor": 2
}
