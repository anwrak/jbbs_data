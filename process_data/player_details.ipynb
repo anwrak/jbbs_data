{
 "cells": [
  {
   "cell_type": "code",
   "execution_count": 29,
   "metadata": {},
   "outputs": [],
   "source": [
    "#import numpy as np\n",
    "import pandas as pd\n",
    "import csv\n",
    "\n",
    "#import people data from csv\n",
    "import_people = pd.read_csv('../datafiles/People.csv', encoding='latin-1')\n",
    "import_juniors =  pd.read_csv('../datafiles/custom/juniors.csv')\n",
    "juniors = import_juniors.iloc[:, 0].values.tolist()\n",
    "#juniors = import_juniors.aslist()\n",
    "#import_generations = pd.read_csv('datafiles/custom/generation.csv', encoding='latin-1')"
   ]
  },
  {
   "cell_type": "code",
   "execution_count": 30,
   "metadata": {},
   "outputs": [],
   "source": [
    "def jr(i, n):\n",
    "    if i in juniors:\n",
    "        return f\"{n} Jr.\"\n",
    "    else:\n",
    "        return n"
   ]
  },
  {
   "cell_type": "code",
   "execution_count": 37,
   "metadata": {},
   "outputs": [
    {
     "name": "stdout",
     "output_type": "stream",
     "text": [
      "        playerID  birthYear  birthMonth  birthDay         birthCity  \\\n",
      "0      aardsda01       1981          12        27        Denver, CO   \n",
      "1      aaronha01       1934           2         5        Mobile, AL   \n",
      "2      aaronto01       1939           8         5        Mobile, AL   \n",
      "3       aasedo01       1954           9         8        Orange, CA   \n",
      "4       abadan01       1972           8        25    Palm Beach, FL   \n",
      "...          ...        ...         ...       ...               ...   \n",
      "20980  thomacl03       1896          11        25       Greenup, KY   \n",
      "20981  malarda01       1894          10        18    White Hall, LA   \n",
      "20982  gardnje02       1895           9        27  Russellville, AK   \n",
      "20994   pagete01       1903           4        22       Glasgow, KY   \n",
      "20995  mcdonwe01       1900           1         1       Glasgow, DE   \n",
      "\n",
      "      birthCountry birthState nameFirst   nameLast  weight  height bats  \\\n",
      "0              USA         CO     David    Aardsma     215      75    R   \n",
      "1              USA         AL      Hank      Aaron     180      72    R   \n",
      "2              USA         AL    Tommie      Aaron     190      75    R   \n",
      "3              USA         CA       Don       Aase     190      75    R   \n",
      "4              USA         FL      Andy       Abad     184      73    L   \n",
      "...            ...        ...       ...        ...     ...     ...  ...   \n",
      "20980          USA         KY   Clinton     Thomas     186      69    R   \n",
      "20981          USA         LA      Dave  Malarcher     150      67    B   \n",
      "20982          USA         AK     Jelly    Gardner     160      67    L   \n",
      "20994          USA         KY       Ted       Page     175      71    L   \n",
      "20995          USA         DE   Webster   McDonald     190      71    L   \n",
      "\n",
      "      throws       debut    bbrefID   finalGame   retroID          fullName  \n",
      "0          R  2004-04-06  aardsda01  2015-08-23  aardd001     David Aardsma  \n",
      "1          R  1954-04-13  aaronha01  1976-10-03  aaroh101        Hank Aaron  \n",
      "2          R  1962-04-10  aaronto01  1971-09-26  aarot101      Tommie Aaron  \n",
      "3          R  1977-07-26   aasedo01  1990-10-03  aased001          Don Aase  \n",
      "4          L  2001-09-10   abadan01  2006-04-13  abada001         Andy Abad  \n",
      "...      ...         ...        ...         ...       ...               ...  \n",
      "20980      R  1800-01-01  thomacl03  1800-01-01  thomc103    Clinton Thomas  \n",
      "20981      R  1800-01-01  malarda01  1800-01-01  malad101    Dave Malarcher  \n",
      "20982      R  1800-01-01  gardnje02  1800-01-01  gardj102     Jelly Gardner  \n",
      "20994      R  1800-01-01   pagete01  1800-01-01  paget101          Ted Page  \n",
      "20995      R  1800-01-01  mcdonwe01  1800-01-01  mcdow101  Webster McDonald  \n",
      "\n",
      "[20756 rows x 18 columns]\n"
     ]
    }
   ],
   "source": [
    "\n",
    "#remove non-players, remove unneeded columns\n",
    "people_df = import_people[~import_people['playerID'].str.endswith('99')].drop(['ID', 'deathYear', 'deathMonth', 'deathDay', 'deathCountry', 'deathState', 'deathCity', 'nameGiven'], axis=1).copy()\n",
    "\n",
    "#fix blanks and cast as integer where appropriate\n",
    "people_df['birthYear'] = people_df['birthYear'].fillna(0).astype(int)\n",
    "people_df['birthMonth'] = people_df['birthMonth'].fillna(0).astype(int)\n",
    "people_df['birthDay'] = people_df['birthDay'].fillna(0).astype(int)\n",
    "people_df['weight'] = people_df['weight'].fillna(0).astype(int)\n",
    "people_df['height'] = people_df['height'].fillna(0).astype(int)\n",
    "people_df['birthCountry'] = people_df['birthCountry'].fillna('Unknown').apply(lambda x: x if x != 'Ukriane' else 'Ukraine')\n",
    "people_df['birthCity'] = people_df['birthCity'].fillna('Unknown')\n",
    "people_df['birthState'] = people_df['birthState'].fillna('NA')\n",
    "people_df['birthCity'] = people_df.apply(lambda x: f\"{x['birthCity']}, {x['birthState']}\", axis=1)\n",
    "people_df['nameFirst'] = people_df['nameFirst'].fillna('Unknown')\n",
    "people_df['bats'] = people_df['bats'].fillna('U')\n",
    "people_df['throws'] = people_df['throws'].fillna('U')\n",
    "people_df['bbrefID'] = people_df['bbrefID'].fillna('xxx1234')\n",
    "people_df['debut'] = people_df['debut'].fillna('1800-01-01')\n",
    "people_df['finalGame'] = people_df['finalGame'].fillna('1800-01-01')\n",
    "\n",
    "#juniorize and make the full name\n",
    "people_df['nameLast'] = people_df.apply(lambda x: jr(x['playerID'], x['nameLast']), axis=1)\n",
    "people_df['fullName'] = people_df.apply(lambda x: f\"{x['nameFirst']} {x['nameLast']}\", axis=1)\n",
    "\n",
    "\n",
    "\n",
    "print(people_df)"
   ]
  }
 ],
 "metadata": {
  "kernelspec": {
   "display_name": ".venv",
   "language": "python",
   "name": "python3"
  },
  "language_info": {
   "codemirror_mode": {
    "name": "ipython",
    "version": 3
   },
   "file_extension": ".py",
   "mimetype": "text/x-python",
   "name": "python",
   "nbconvert_exporter": "python",
   "pygments_lexer": "ipython3",
   "version": "3.11.9"
  }
 },
 "nbformat": 4,
 "nbformat_minor": 2
}
