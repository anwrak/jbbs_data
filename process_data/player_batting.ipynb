{
 "cells": [
  {
   "cell_type": "code",
   "execution_count": 1,
   "metadata": {},
   "outputs": [],
   "source": [
    "import pandas as pd\n",
    "import numpy as np\n",
    "import os\n",
    "from dotenv import load_dotenv \n",
    "from sqlalchemy import create_engine\n",
    "from datetime import datetime\n",
    "from dateutil.relativedelta import relativedelta\n",
    "import sys \n",
    "sys.path.append('../maths/') \n",
    "from baseball_stats import BasicHitting\n"
   ]
  },
  {
   "cell_type": "code",
   "execution_count": 2,
   "metadata": {},
   "outputs": [],
   "source": [
    "k = ['playerID', 'birthYear', 'birthMonth', 'birthDay']\n",
    "import_people = pd.read_csv('../datafiles/People.csv', encoding='latin-1', usecols=k)\n",
    "import_batting = pd.read_csv('../datafiles/Batting.csv', encoding='latin-1')\n",
    "people = import_people.copy()\n",
    "\n",
    "#fix fucky dates\n",
    "people['birthYear'] = people['birthYear'].fillna(1875).astype(int)\n",
    "people['birthMonth'] = people['birthMonth'].fillna(1).astype(int)\n",
    "people['birthDay'] = people['birthDay'].fillna(1).astype(int)\n",
    "\n",
    "#create a birthdate column so we can calulate an age at start of season\n",
    "people['birthdate'] = people.apply(lambda x: f\"\"\"{x['birthYear']}-{x['birthMonth']}-{x['birthDay']}\"\"\", axis=1)\n",
    "people['birthdate'] = pd.to_datetime(people['birthdate'], errors='coerce')\n",
    "\n",
    "#merge the people and batting dataframes\n",
    "batting = people.copy().merge(import_batting, on='playerID', how ='inner')\n",
    "\n",
    "#make sure the raw stats are 0 and not null\n",
    "batting.loc[:, ['G', 'AB', 'R', 'H', '2B', '3B', 'HR', 'RBI', 'SB', 'CS', 'BB', 'SO', 'IBB', 'HBP', 'SH', 'SF', 'GIDP']].fillna(0, inplace=True)"
   ]
  },
  {
   "cell_type": "code",
   "execution_count": 3,
   "metadata": {},
   "outputs": [],
   "source": [
    "player_batting = batting.copy()\n",
    "player_batting = player_batting.drop(columns=['stint', 'teamID', 'lgID', 'birthYear', 'birthMonth', 'birthDay', 'G_old', 'G_batting'], axis=1).groupby(['playerID', 'birthdate', 'yearID']).sum().reset_index()\n",
    "#estimate the start of the season at april 1\n",
    "player_batting['season_start'] = player_batting.apply(lambda x: f\"\"\"{x['yearID']}-04-01\"\"\", axis=1)\n",
    "player_batting['season_start'] = pd.to_datetime(player_batting['season_start'], errors='coerce')\n",
    "\n",
    "#calculate the age of the player at the start of the season\n",
    "player_batting['age'] = player_batting.apply(lambda x: relativedelta(x['season_start'], x['birthdate']).years, axis=1)\n",
    "player_batting.drop(columns=['birthdate', 'season_start'], inplace=True)\n",
    "player_batting['rowType'] = 'season'\n",
    "player_batting.rename(columns={'3B':'B3', '2B':'B2', 'GIDP':'GiDP', 'SO':'K', 'yearID':'Years'}, inplace=True)\n",
    "\n",
    "#adding shit up\n",
    "player_batting['PA'] = BasicHitting.calc_pa(player_batting)\n",
    "player_batting['B1'] = BasicHitting.calc_b1(player_batting)\n",
    "player_batting['TB'] = BasicHitting.calc_tb(player_batting)\n",
    "player_batting['SBA'] = BasicHitting.calc_sba(player_batting)\n",
    "player_batting['XBH'] = BasicHitting.calc_xbh(player_batting)\n",
    "player_batting['TOB'] = BasicHitting.calc_tob(player_batting)\n",
    "player_batting['RP'] = BasicHitting.calc_rp(player_batting)\n"
   ]
  },
  {
   "cell_type": "code",
   "execution_count": 4,
   "metadata": {},
   "outputs": [],
   "source": [
    "#create rows for career\n",
    "career_df = player_batting.copy()\n",
    "career_df = career_df.drop(['rowType'], axis=1).groupby(['playerID']).agg({\n",
    "    'Years': 'count',\n",
    "    'G': 'sum',\n",
    "    'AB': 'sum',\n",
    "    'R': 'sum',\n",
    "    'H': 'sum',\n",
    "    'B2': 'sum',\n",
    "    'B3': 'sum',\n",
    "    'HR': 'sum',\n",
    "    'RBI': 'sum',\n",
    "    'SB': 'sum',\n",
    "    'CS': 'sum',\n",
    "    'BB': 'sum',\n",
    "    'K': 'sum',\n",
    "    'IBB': 'sum',\n",
    "    'HBP': 'sum',\n",
    "    'SH': 'sum',\n",
    "    'SF': 'sum',\n",
    "    'GiDP': 'sum',\n",
    "    'age': 'mean',\n",
    "    'PA': 'sum',\n",
    "    'B1': 'sum',\n",
    "    'TB': 'sum',\n",
    "    'SBA': 'sum',\n",
    "    'XBH': 'sum',\n",
    "    'TOB': 'sum',\n",
    "    'RP': 'sum'\n",
    "}).reset_index()\n",
    "\n",
    "career_df['age'] = career_df['age'].round(0).astype(int)\n",
    "career_df['rowType'] = 'career'"
   ]
  },
  {
   "cell_type": "code",
   "execution_count": 5,
   "metadata": {},
   "outputs": [],
   "source": [
    "#create rows for 162 Game Avg.\n",
    "avg162_df = career_df.drop(['rowType'], axis=1 ).copy()\n",
    "stat_cols = avg162_df.columns.difference(['playerID', 'age', 'Years'])\n",
    "\n",
    "\n",
    "avg162_df[stat_cols] = avg162_df[avg162_df['G'] > 0][stat_cols].div(avg162_df['G'], axis=0).mul(162).round(2)\n",
    "\n",
    "avg162_df['rowType'] = '162Avg'\n"
   ]
  },
  {
   "cell_type": "code",
   "execution_count": 6,
   "metadata": {},
   "outputs": [],
   "source": [
    "#create rows for 600 PA Avg.\n",
    "avg600_df = career_df.drop(['rowType'], axis=1).copy()\n",
    "stat_cols = avg600_df.columns.difference(['playerID', 'age', 'Years'])\n",
    "\n",
    "\n",
    "avg600_df[stat_cols] = avg600_df[avg600_df['PA'] > 0][stat_cols].div(avg600_df['PA'], axis=0).mul(600).round(2)\n",
    "\n",
    "avg600_df['rowType'] = '600Avg'\n"
   ]
  },
  {
   "cell_type": "code",
   "execution_count": 7,
   "metadata": {},
   "outputs": [],
   "source": [
    "#create rows for season average\n",
    "season_avg_df = player_batting.copy()\n",
    "season_avg_df = season_avg_df.drop(['rowType'], axis=1).groupby(['playerID']).agg({\n",
    "    'Years': 'count',\n",
    "    'G': 'mean',\n",
    "    'AB': 'mean',\n",
    "    'R': 'mean',\n",
    "    'H': 'mean',\n",
    "    'B2': 'mean',\n",
    "    'B3': 'mean',\n",
    "    'HR': 'mean',\n",
    "    'RBI': 'mean',\n",
    "    'SB': 'mean',\n",
    "    'CS': 'mean',\n",
    "    'BB': 'mean',\n",
    "    'K': 'mean',\n",
    "    'IBB': 'mean',\n",
    "    'HBP': 'mean',\n",
    "    'SH': 'mean',\n",
    "    'SF': 'mean',\n",
    "    'GiDP': 'mean',\n",
    "    'age': 'mean',\n",
    "    'PA': 'mean',\n",
    "    'B1': 'mean',\n",
    "    'TB': 'mean',\n",
    "    'SBA': 'mean',\n",
    "    'XBH': 'mean',\n",
    "    'TOB': 'mean',\n",
    "    'RP': 'mean'\n",
    "}).round(2).reset_index()\n",
    "\n",
    "season_avg_df['age'] = season_avg_df['age'].round(0).astype(int)\n",
    "season_avg_df['rowType'] = 'seasAvg'\n"
   ]
  },
  {
   "cell_type": "code",
   "execution_count": 8,
   "metadata": {},
   "outputs": [],
   "source": [
    "all_hitting = pd.concat([player_batting, career_df, avg162_df, avg600_df, season_avg_df], ignore_index=True)\n",
    "\n",
    "#ratios and percentages for all\n",
    "all_hitting['BA'] = BasicHitting.calc_ba(all_hitting).round(4)\n",
    "all_hitting['HRAB'] = BasicHitting.calc_hrab(all_hitting).round(4)\n",
    "all_hitting['HRH'] = BasicHitting.calc_hrh(all_hitting).round(4)\n",
    "all_hitting['OBp'] = BasicHitting.calc_obp(all_hitting).round(4)\n",
    "all_hitting['SLGp'] = BasicHitting.calc_slg(all_hitting).round(4)\n",
    "all_hitting['OPS'] = BasicHitting.calc_ops(all_hitting).round(4)\n",
    "all_hitting['XBHp'] = BasicHitting.calc_xbh_pct(all_hitting).round(4)\n",
    "all_hitting['EqA'] = BasicHitting.calc_eqa(all_hitting).round(4)\n",
    "all_hitting['ISO'] = BasicHitting.calc_iso(all_hitting).round(4)\n",
    "all_hitting['GPA'] = BasicHitting.calc_gpa(all_hitting).round(4)\n",
    "all_hitting['PASO'] = BasicHitting.calc_paso(all_hitting).round(4)\n",
    "all_hitting['BBK'] = BasicHitting.calc_bbk(all_hitting).round(4)\n",
    "all_hitting['RC'] = BasicHitting.calc_rc(all_hitting).round(4)\n",
    "all_hitting['BR'] = BasicHitting.calc_br(all_hitting).round(4)\n",
    "all_hitting['SBp'] = BasicHitting.calc_sbp(all_hitting).round(4)\n",
    "all_hitting['TA'] = BasicHitting.calc_ta(all_hitting).round(4)\n",
    "all_hitting['BABIP'] = BasicHitting.calc_babip(all_hitting).round(4)\n",
    "\n",
    "#reorder th columns\n",
    "first_cols = ['rowType', 'playerID', 'age', 'Years']\n",
    "addl_cols = all_hitting.columns.difference(first_cols).tolist()\n",
    "\n",
    "all_hitting = all_hitting[first_cols + addl_cols]\n"
   ]
  },
  {
   "cell_type": "code",
   "execution_count": 9,
   "metadata": {},
   "outputs": [
    {
     "data": {
      "text/plain": [
       "-1"
      ]
     },
     "execution_count": 9,
     "metadata": {},
     "output_type": "execute_result"
    }
   ],
   "source": [
    "load_dotenv()\n",
    "\n",
    "db_user=os.getenv('jbbs_db_user')\n",
    "db_pass=os.getenv('jbbs_db_password')\n",
    "db_host=os.getenv('jbbs_db_host')\n",
    "db_name=os.getenv('jbbs_db_name')\n",
    "#all_hitting.to_csv('../outputs/plasyer_hitting.csv.gz', encoding='utf-8', index=False, compression='gzip')\n",
    "\n",
    "engine = create_engine(f'mysql+mysqlconnector://{db_user}:{db_pass}@{db_host}/{db_name}', echo=False)\n",
    "all_hitting.to_sql('player_hitting_new', con=engine, if_exists='replace', index=False)\n"
   ]
  }
 ],
 "metadata": {
  "kernelspec": {
   "display_name": ".venv",
   "language": "python",
   "name": "python3"
  },
  "language_info": {
   "codemirror_mode": {
    "name": "ipython",
    "version": 3
   },
   "file_extension": ".py",
   "mimetype": "text/x-python",
   "name": "python",
   "nbconvert_exporter": "python",
   "pygments_lexer": "ipython3",
   "version": "3.9.2"
  }
 },
 "nbformat": 4,
 "nbformat_minor": 2
}
