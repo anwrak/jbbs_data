{
 "cells": [
  {
   "cell_type": "code",
   "execution_count": 9,
   "metadata": {},
   "outputs": [],
   "source": [
    "import pandas as pd\n",
    "import numpy as np\n",
    "import os\n",
    "from dotenv import load_dotenv \n",
    "from sqlalchemy import create_engine, text\n",
    "from datetime import datetime\n",
    "from dateutil.relativedelta import relativedelta\n",
    "import sys \n",
    "sys.path.append('../maths/') \n",
    "from baseball_stats import BasicHitting\n"
   ]
  },
  {
   "cell_type": "code",
   "execution_count": 10,
   "metadata": {},
   "outputs": [],
   "source": [
    "k = ['playerID', 'birthYear', 'birthMonth', 'birthDay']\n",
    "import_people = pd.read_csv('../datafiles/People.csv', encoding='latin-1', usecols=k)\n",
    "import_batting = pd.read_csv('../datafiles/Batting.csv', encoding='latin-1')\n",
    "people = import_people.copy()\n",
    "\n",
    "#fix fucky dates\n",
    "people['birthYear'] = people['birthYear'].fillna(1875).astype(int)\n",
    "people['birthMonth'] = people['birthMonth'].fillna(1).astype(int)\n",
    "people['birthDay'] = people['birthDay'].fillna(1).astype(int)\n",
    "\n",
    "#create a birthdate column so we can calulate an age at start of season\n",
    "people['birthdate'] = people.apply(lambda x: f\"\"\"{x['birthYear']}-{x['birthMonth']}-{x['birthDay']}\"\"\", axis=1)\n",
    "people['birthdate'] = pd.to_datetime(people['birthdate'], errors='coerce')\n",
    "\n",
    "#merge the people and batting dataframes\n",
    "batting = people.copy().merge(import_batting, on='playerID', how ='inner')\n",
    "\n",
    "#calculate the age of the player at the start of the season\n",
    "batting['season_start'] = batting.apply(lambda x: f\"\"\"{x['yearID']}-04-01\"\"\", axis=1)\n",
    "batting['season_start'] = pd.to_datetime(batting['season_start'], errors='coerce')\n",
    "batting['age'] = batting.apply(lambda x: relativedelta(x['season_start'], x['birthdate']).years, axis=1)\n",
    "\n",
    "#drop unneeded columns\n",
    "batting.drop(columns=['stint', 'teamID', 'lgID', 'birthYear', 'birthMonth', 'birthDay', 'G_old', 'G_batting', 'birthdate', 'season_start'], inplace=True)\n",
    "\n",
    "#rename columns\n",
    "batting.rename(columns={'3B':'B3', '2B':'B2', 'GIDP':'GiDP', 'SO':'K', 'yearID':'Years'}, inplace=True)\n",
    "\n",
    "#fill in the 0s\n",
    "context_cols = ['playerID', 'age', 'Years']\n",
    "data_cols = batting.columns.difference(context_cols)\n",
    "batting[data_cols] = batting[data_cols].fillna(0)\n",
    "\n",
    "#order the columns\n",
    "batting = batting[context_cols + data_cols.tolist()]\n",
    "\n",
    "#sum each player year\n",
    "batting = batting.groupby(['playerID', 'age', 'Years']).sum().reset_index()\n",
    "\n",
    "batting = BasicHitting.battingSums(batting)\n"
   ]
  },
  {
   "cell_type": "code",
   "execution_count": 11,
   "metadata": {},
   "outputs": [],
   "source": [
    "#create rows for career\n",
    "career_df = batting.copy()\n",
    "career_df = career_df.groupby(['playerID']).agg({\n",
    "    'Years': 'count',\n",
    "    'G': 'sum',\n",
    "    'AB': 'sum',\n",
    "    'R': 'sum',\n",
    "    'H': 'sum',\n",
    "    'B2': 'sum',\n",
    "    'B3': 'sum',\n",
    "    'HR': 'sum',\n",
    "    'RBI': 'sum',\n",
    "    'SB': 'sum',\n",
    "    'CS': 'sum',\n",
    "    'BB': 'sum',\n",
    "    'K': 'sum',\n",
    "    'IBB': 'sum',\n",
    "    'HBP': 'sum',\n",
    "    'SH': 'sum',\n",
    "    'SF': 'sum',\n",
    "    'GiDP': 'sum',\n",
    "    'age': 'mean',\n",
    "    'PA': 'sum',\n",
    "    'B1': 'sum',\n",
    "    'TB': 'sum',\n",
    "    'SBA': 'sum',\n",
    "    'XBH': 'sum',\n",
    "    'TOB': 'sum',\n",
    "    'RP': 'sum'\n",
    "}).reset_index()\n",
    "\n",
    "career_df['age'] = career_df['age'].round(0).astype(int)"
   ]
  },
  {
   "cell_type": "code",
   "execution_count": null,
   "metadata": {},
   "outputs": [
    {
     "ename": "KeyError",
     "evalue": "\"['rowType'] not found in axis\"",
     "output_type": "error",
     "traceback": [
      "\u001b[0;31m---------------------------------------------------------------------------\u001b[0m",
      "\u001b[0;31mKeyError\u001b[0m                                  Traceback (most recent call last)",
      "Cell \u001b[0;32mIn[12], line 2\u001b[0m\n\u001b[1;32m      1\u001b[0m \u001b[38;5;66;03m#create rows for 162 Game Avg.\u001b[39;00m\n\u001b[0;32m----> 2\u001b[0m avg162_df \u001b[38;5;241m=\u001b[39m \u001b[43mcareer_df\u001b[49m\u001b[38;5;241;43m.\u001b[39;49m\u001b[43mdrop\u001b[49m\u001b[43m(\u001b[49m\u001b[43m[\u001b[49m\u001b[38;5;124;43m'\u001b[39;49m\u001b[38;5;124;43mrowType\u001b[39;49m\u001b[38;5;124;43m'\u001b[39;49m\u001b[43m]\u001b[49m\u001b[43m,\u001b[49m\u001b[43m \u001b[49m\u001b[43maxis\u001b[49m\u001b[38;5;241;43m=\u001b[39;49m\u001b[38;5;241;43m1\u001b[39;49m\u001b[43m \u001b[49m\u001b[43m)\u001b[49m\u001b[38;5;241m.\u001b[39mcopy()\n\u001b[1;32m      3\u001b[0m stat_cols \u001b[38;5;241m=\u001b[39m avg162_df\u001b[38;5;241m.\u001b[39mcolumns\u001b[38;5;241m.\u001b[39mdifference([\u001b[38;5;124m'\u001b[39m\u001b[38;5;124mplayerID\u001b[39m\u001b[38;5;124m'\u001b[39m, \u001b[38;5;124m'\u001b[39m\u001b[38;5;124mage\u001b[39m\u001b[38;5;124m'\u001b[39m, \u001b[38;5;124m'\u001b[39m\u001b[38;5;124mYears\u001b[39m\u001b[38;5;124m'\u001b[39m])\n\u001b[1;32m      4\u001b[0m avg162_df[stat_cols] \u001b[38;5;241m=\u001b[39m avg162_df[avg162_df[\u001b[38;5;124m'\u001b[39m\u001b[38;5;124mG\u001b[39m\u001b[38;5;124m'\u001b[39m] \u001b[38;5;241m>\u001b[39m \u001b[38;5;241m0\u001b[39m][stat_cols]\u001b[38;5;241m.\u001b[39mdiv(avg162_df[\u001b[38;5;124m'\u001b[39m\u001b[38;5;124mG\u001b[39m\u001b[38;5;124m'\u001b[39m], axis\u001b[38;5;241m=\u001b[39m\u001b[38;5;241m0\u001b[39m)\u001b[38;5;241m.\u001b[39mmul(\u001b[38;5;241m162\u001b[39m)\u001b[38;5;241m.\u001b[39mround(\u001b[38;5;241m2\u001b[39m)\n",
      "File \u001b[0;32m/mnt/share/development/jbbs_data/.venv/lib/python3.9/site-packages/pandas/core/frame.py:5581\u001b[0m, in \u001b[0;36mDataFrame.drop\u001b[0;34m(self, labels, axis, index, columns, level, inplace, errors)\u001b[0m\n\u001b[1;32m   5433\u001b[0m \u001b[38;5;28;01mdef\u001b[39;00m\u001b[38;5;250m \u001b[39m\u001b[38;5;21mdrop\u001b[39m(\n\u001b[1;32m   5434\u001b[0m     \u001b[38;5;28mself\u001b[39m,\n\u001b[1;32m   5435\u001b[0m     labels: IndexLabel \u001b[38;5;241m|\u001b[39m \u001b[38;5;28;01mNone\u001b[39;00m \u001b[38;5;241m=\u001b[39m \u001b[38;5;28;01mNone\u001b[39;00m,\n\u001b[0;32m   (...)\u001b[0m\n\u001b[1;32m   5442\u001b[0m     errors: IgnoreRaise \u001b[38;5;241m=\u001b[39m \u001b[38;5;124m\"\u001b[39m\u001b[38;5;124mraise\u001b[39m\u001b[38;5;124m\"\u001b[39m,\n\u001b[1;32m   5443\u001b[0m ) \u001b[38;5;241m-\u001b[39m\u001b[38;5;241m>\u001b[39m DataFrame \u001b[38;5;241m|\u001b[39m \u001b[38;5;28;01mNone\u001b[39;00m:\n\u001b[1;32m   5444\u001b[0m \u001b[38;5;250m    \u001b[39m\u001b[38;5;124;03m\"\"\"\u001b[39;00m\n\u001b[1;32m   5445\u001b[0m \u001b[38;5;124;03m    Drop specified labels from rows or columns.\u001b[39;00m\n\u001b[1;32m   5446\u001b[0m \n\u001b[0;32m   (...)\u001b[0m\n\u001b[1;32m   5579\u001b[0m \u001b[38;5;124;03m            weight  1.0     0.8\u001b[39;00m\n\u001b[1;32m   5580\u001b[0m \u001b[38;5;124;03m    \"\"\"\u001b[39;00m\n\u001b[0;32m-> 5581\u001b[0m     \u001b[38;5;28;01mreturn\u001b[39;00m \u001b[38;5;28;43msuper\u001b[39;49m\u001b[43m(\u001b[49m\u001b[43m)\u001b[49m\u001b[38;5;241;43m.\u001b[39;49m\u001b[43mdrop\u001b[49m\u001b[43m(\u001b[49m\n\u001b[1;32m   5582\u001b[0m \u001b[43m        \u001b[49m\u001b[43mlabels\u001b[49m\u001b[38;5;241;43m=\u001b[39;49m\u001b[43mlabels\u001b[49m\u001b[43m,\u001b[49m\n\u001b[1;32m   5583\u001b[0m \u001b[43m        \u001b[49m\u001b[43maxis\u001b[49m\u001b[38;5;241;43m=\u001b[39;49m\u001b[43maxis\u001b[49m\u001b[43m,\u001b[49m\n\u001b[1;32m   5584\u001b[0m \u001b[43m        \u001b[49m\u001b[43mindex\u001b[49m\u001b[38;5;241;43m=\u001b[39;49m\u001b[43mindex\u001b[49m\u001b[43m,\u001b[49m\n\u001b[1;32m   5585\u001b[0m \u001b[43m        \u001b[49m\u001b[43mcolumns\u001b[49m\u001b[38;5;241;43m=\u001b[39;49m\u001b[43mcolumns\u001b[49m\u001b[43m,\u001b[49m\n\u001b[1;32m   5586\u001b[0m \u001b[43m        \u001b[49m\u001b[43mlevel\u001b[49m\u001b[38;5;241;43m=\u001b[39;49m\u001b[43mlevel\u001b[49m\u001b[43m,\u001b[49m\n\u001b[1;32m   5587\u001b[0m \u001b[43m        \u001b[49m\u001b[43minplace\u001b[49m\u001b[38;5;241;43m=\u001b[39;49m\u001b[43minplace\u001b[49m\u001b[43m,\u001b[49m\n\u001b[1;32m   5588\u001b[0m \u001b[43m        \u001b[49m\u001b[43merrors\u001b[49m\u001b[38;5;241;43m=\u001b[39;49m\u001b[43merrors\u001b[49m\u001b[43m,\u001b[49m\n\u001b[1;32m   5589\u001b[0m \u001b[43m    \u001b[49m\u001b[43m)\u001b[49m\n",
      "File \u001b[0;32m/mnt/share/development/jbbs_data/.venv/lib/python3.9/site-packages/pandas/core/generic.py:4788\u001b[0m, in \u001b[0;36mNDFrame.drop\u001b[0;34m(self, labels, axis, index, columns, level, inplace, errors)\u001b[0m\n\u001b[1;32m   4786\u001b[0m \u001b[38;5;28;01mfor\u001b[39;00m axis, labels \u001b[38;5;129;01min\u001b[39;00m axes\u001b[38;5;241m.\u001b[39mitems():\n\u001b[1;32m   4787\u001b[0m     \u001b[38;5;28;01mif\u001b[39;00m labels \u001b[38;5;129;01mis\u001b[39;00m \u001b[38;5;129;01mnot\u001b[39;00m \u001b[38;5;28;01mNone\u001b[39;00m:\n\u001b[0;32m-> 4788\u001b[0m         obj \u001b[38;5;241m=\u001b[39m \u001b[43mobj\u001b[49m\u001b[38;5;241;43m.\u001b[39;49m\u001b[43m_drop_axis\u001b[49m\u001b[43m(\u001b[49m\u001b[43mlabels\u001b[49m\u001b[43m,\u001b[49m\u001b[43m \u001b[49m\u001b[43maxis\u001b[49m\u001b[43m,\u001b[49m\u001b[43m \u001b[49m\u001b[43mlevel\u001b[49m\u001b[38;5;241;43m=\u001b[39;49m\u001b[43mlevel\u001b[49m\u001b[43m,\u001b[49m\u001b[43m \u001b[49m\u001b[43merrors\u001b[49m\u001b[38;5;241;43m=\u001b[39;49m\u001b[43merrors\u001b[49m\u001b[43m)\u001b[49m\n\u001b[1;32m   4790\u001b[0m \u001b[38;5;28;01mif\u001b[39;00m inplace:\n\u001b[1;32m   4791\u001b[0m     \u001b[38;5;28mself\u001b[39m\u001b[38;5;241m.\u001b[39m_update_inplace(obj)\n",
      "File \u001b[0;32m/mnt/share/development/jbbs_data/.venv/lib/python3.9/site-packages/pandas/core/generic.py:4830\u001b[0m, in \u001b[0;36mNDFrame._drop_axis\u001b[0;34m(self, labels, axis, level, errors, only_slice)\u001b[0m\n\u001b[1;32m   4828\u001b[0m         new_axis \u001b[38;5;241m=\u001b[39m axis\u001b[38;5;241m.\u001b[39mdrop(labels, level\u001b[38;5;241m=\u001b[39mlevel, errors\u001b[38;5;241m=\u001b[39merrors)\n\u001b[1;32m   4829\u001b[0m     \u001b[38;5;28;01melse\u001b[39;00m:\n\u001b[0;32m-> 4830\u001b[0m         new_axis \u001b[38;5;241m=\u001b[39m \u001b[43maxis\u001b[49m\u001b[38;5;241;43m.\u001b[39;49m\u001b[43mdrop\u001b[49m\u001b[43m(\u001b[49m\u001b[43mlabels\u001b[49m\u001b[43m,\u001b[49m\u001b[43m \u001b[49m\u001b[43merrors\u001b[49m\u001b[38;5;241;43m=\u001b[39;49m\u001b[43merrors\u001b[49m\u001b[43m)\u001b[49m\n\u001b[1;32m   4831\u001b[0m     indexer \u001b[38;5;241m=\u001b[39m axis\u001b[38;5;241m.\u001b[39mget_indexer(new_axis)\n\u001b[1;32m   4833\u001b[0m \u001b[38;5;66;03m# Case for non-unique axis\u001b[39;00m\n\u001b[1;32m   4834\u001b[0m \u001b[38;5;28;01melse\u001b[39;00m:\n",
      "File \u001b[0;32m/mnt/share/development/jbbs_data/.venv/lib/python3.9/site-packages/pandas/core/indexes/base.py:7070\u001b[0m, in \u001b[0;36mIndex.drop\u001b[0;34m(self, labels, errors)\u001b[0m\n\u001b[1;32m   7068\u001b[0m \u001b[38;5;28;01mif\u001b[39;00m mask\u001b[38;5;241m.\u001b[39many():\n\u001b[1;32m   7069\u001b[0m     \u001b[38;5;28;01mif\u001b[39;00m errors \u001b[38;5;241m!=\u001b[39m \u001b[38;5;124m\"\u001b[39m\u001b[38;5;124mignore\u001b[39m\u001b[38;5;124m\"\u001b[39m:\n\u001b[0;32m-> 7070\u001b[0m         \u001b[38;5;28;01mraise\u001b[39;00m \u001b[38;5;167;01mKeyError\u001b[39;00m(\u001b[38;5;124mf\u001b[39m\u001b[38;5;124m\"\u001b[39m\u001b[38;5;132;01m{\u001b[39;00mlabels[mask]\u001b[38;5;241m.\u001b[39mtolist()\u001b[38;5;132;01m}\u001b[39;00m\u001b[38;5;124m not found in axis\u001b[39m\u001b[38;5;124m\"\u001b[39m)\n\u001b[1;32m   7071\u001b[0m     indexer \u001b[38;5;241m=\u001b[39m indexer[\u001b[38;5;241m~\u001b[39mmask]\n\u001b[1;32m   7072\u001b[0m \u001b[38;5;28;01mreturn\u001b[39;00m \u001b[38;5;28mself\u001b[39m\u001b[38;5;241m.\u001b[39mdelete(indexer)\n",
      "\u001b[0;31mKeyError\u001b[0m: \"['rowType'] not found in axis\""
     ]
    }
   ],
   "source": [
    "#create rows for 162 Game Avg.\n",
    "avg162_df = career_df.copy()\n",
    "stat_cols = avg162_df.columns.difference(['playerID', 'age', 'Years'])\n",
    "avg162_df[stat_cols] = avg162_df[avg162_df['G'] > 0][stat_cols].div(avg162_df['G'], axis=0).mul(162).round(2)\n",
    "avg162_df.insert(0, 'rowType', '162Avg')"
   ]
  },
  {
   "cell_type": "code",
   "execution_count": null,
   "metadata": {},
   "outputs": [],
   "source": [
    "#create rows for 600 PA Avg.\n",
    "norm_df = career_df.copy()\n",
    "stat_cols = norm_df.columns.difference(['playerID', 'age', 'Years'])\n",
    "norm_df[stat_cols] = norm_df[norm_df['PA'] > 0][stat_cols].div(norm_df['PA'], axis=0).mul(600).round(2)\n",
    "norm_df.insert(0, 'rowType', 'normalized')"
   ]
  },
  {
   "cell_type": "code",
   "execution_count": null,
   "metadata": {},
   "outputs": [],
   "source": [
    "season_df = batting.copy()\n",
    "season_df.insert(0, 'rowType', 'season')\n",
    "career_df.insert(0, 'rowType', 'career')\n",
    "\n",
    "most_hitting = pd.concat([season_df, career_df, avg162_df, norm_df], ignore_index=True)\n",
    "\n",
    "most_hitting = BasicHitting.battingRatios(most_hitting) "
   ]
  },
  {
   "cell_type": "code",
   "execution_count": null,
   "metadata": {},
   "outputs": [],
   "source": [
    "#create rows for season average\n",
    "season_avg_df = most_hitting[most_hitting['rowType'] == 'season'].copy()\n",
    "season_avg_df = season_avg_df.drop(['rowType'], axis=1).groupby(['playerID']).mean().round(4).reset_index()\n",
    "\n",
    "season_avg_df['age'] = season_avg_df['age'].round(0).astype(int)\n",
    "season_avg_df['Years'] = season_avg_df['Years'].round(0).astype(int)\n",
    "season_avg_df.insert(0, 'rowType', 'seasAvg')\n",
    "\n",
    "final_hitting = pd.concat([most_hitting, season_avg_df], ignore_index=True)\n"
   ]
  },
  {
   "cell_type": "code",
   "execution_count": null,
   "metadata": {},
   "outputs": [],
   "source": [
    "load_dotenv()\n",
    "\n",
    "db_user=os.getenv('jbbs_db_user')\n",
    "db_pass=os.getenv('jbbs_db_password')\n",
    "db_host=os.getenv('jbbs_db_host')\n",
    "db_name=os.getenv('jbbs_db_name')\n",
    "\n",
    "engine = create_engine(\n",
    "    f'mysql+mysqlconnector://{db_user}:{db_pass}@{db_host}/{db_name}',\n",
    "    echo=False,\n",
    "    pool_size=5,      # Maximum number of connections in the pool\n",
    "    max_overflow=0,   # Prevents creating more connections than `pool_size`\n",
    "    pool_recycle=600,\n",
    "    pool_pre_ping=True\n",
    ")\n",
    "\n",
    "with engine.connect() as conn:\n",
    "    conn.rollback() \n",
    "    final_hitting.to_sql('player_hitting_new', con=engine, if_exists='replace', index=False, chunksize=500)\n",
    "    conn.execute(text('create index idx_playerid on player_hitting_new(playerID);'))\n",
    "    conn.execute(text('create index idx_rowType on player_hitting_new(rowType);'))\n",
    "    conn.execute(text('create index idx_age on player_hitting_new(age);'))\n",
    "    conn.execute(text('create index idx_years on player_hitting_new(Years);'))\n"
   ]
  }
 ],
 "metadata": {
  "kernelspec": {
   "display_name": ".venv",
   "language": "python",
   "name": "python3"
  },
  "language_info": {
   "codemirror_mode": {
    "name": "ipython",
    "version": 3
   },
   "file_extension": ".py",
   "mimetype": "text/x-python",
   "name": "python",
   "nbconvert_exporter": "python",
   "pygments_lexer": "ipython3",
   "version": "3.9.2"
  }
 },
 "nbformat": 4,
 "nbformat_minor": 2
}
