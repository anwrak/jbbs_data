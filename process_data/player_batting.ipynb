{
 "cells": [
  {
   "cell_type": "code",
   "execution_count": null,
   "metadata": {},
   "outputs": [],
   "source": [
    "import pandas as pd\n",
    "import numpy as np\n",
    "import os\n",
    "from dotenv import load_dotenv \n",
    "from sqlalchemy import create_engine, text\n",
    "from datetime import datetime\n",
    "from dateutil.relativedelta import relativedelta\n",
    "import sys \n",
    "sys.path.append('../maths/') \n",
    "from baseball_stats import BasicHitting\n"
   ]
  },
  {
   "cell_type": "code",
   "execution_count": null,
   "metadata": {},
   "outputs": [],
   "source": [
    "k = ['playerID', 'birthYear', 'birthMonth', 'birthDay']\n",
    "import_people = pd.read_csv('../datafiles/People.csv', encoding='latin-1', usecols=k)\n",
    "import_batting = pd.read_csv('../datafiles/Batting.csv', encoding='latin-1')\n",
    "people = import_people.copy()\n",
    "\n",
    "#fix fucky dates\n",
    "people['birthYear'] = people['birthYear'].fillna(1875).astype(int)\n",
    "people['birthMonth'] = people['birthMonth'].fillna(1).astype(int)\n",
    "people['birthDay'] = people['birthDay'].fillna(1).astype(int)\n",
    "\n",
    "#create a birthdate column so we can calulate an age at start of season\n",
    "people['birthdate'] = people.apply(lambda x: f\"\"\"{x['birthYear']}-{x['birthMonth']}-{x['birthDay']}\"\"\", axis=1)\n",
    "people['birthdate'] = pd.to_datetime(people['birthdate'], errors='coerce')\n",
    "\n",
    "#merge the people and batting dataframes\n",
    "batting = people.copy().merge(import_batting, on='playerID', how ='inner')\n",
    "\n",
    "#calculate the age of the player at the start of the season\n",
    "batting['season_start'] = batting.apply(lambda x: f\"\"\"{x['yearID']}-04-01\"\"\", axis=1)\n",
    "batting['season_start'] = pd.to_datetime(batting['season_start'], errors='coerce')\n",
    "batting['age'] = batting.apply(lambda x: relativedelta(x['season_start'], x['birthdate']).years, axis=1)\n",
    "\n",
    "#drop unneeded columns\n",
    "batting.drop(columns=['stint', 'teamID', 'lgID', 'birthYear', 'birthMonth', 'birthDay', 'G_old', 'G_batting', 'birthdate', 'season_start'], inplace=True)\n",
    "\n",
    "#rename columns\n",
    "batting.rename(columns={'3B':'B3', '2B':'B2', 'GIDP':'GiDP', 'SO':'K', 'yearID':'Years'}, inplace=True)\n",
    "\n",
    "#fill in the 0s\n",
    "context_cols = ['playerID', 'age', 'Years']\n",
    "data_cols = batting.columns.difference(context_cols)\n",
    "batting[data_cols] = batting[data_cols].fillna(0)\n",
    "\n",
    "#order the columns\n",
    "batting = batting[context_cols + data_cols.tolist()]\n",
    "\n",
    "#sum each player year\n",
    "batting = batting.groupby(['playerID', 'age', 'Years']).sum().reset_index()\n",
    "\n",
    "batting = BasicHitting.battingSums(batting)\n"
   ]
  },
  {
   "cell_type": "code",
   "execution_count": null,
   "metadata": {},
   "outputs": [],
   "source": [
    "#create rows for career\n",
    "career_df = batting.copy()\n",
    "career_df = career_df.drop(['rowType'], axis=1).groupby(['playerID']).agg({\n",
    "    'Years': 'count',\n",
    "    'G': 'sum',\n",
    "    'AB': 'sum',\n",
    "    'R': 'sum',\n",
    "    'H': 'sum',\n",
    "    'B2': 'sum',\n",
    "    'B3': 'sum',\n",
    "    'HR': 'sum',\n",
    "    'RBI': 'sum',\n",
    "    'SB': 'sum',\n",
    "    'CS': 'sum',\n",
    "    'BB': 'sum',\n",
    "    'K': 'sum',\n",
    "    'IBB': 'sum',\n",
    "    'HBP': 'sum',\n",
    "    'SH': 'sum',\n",
    "    'SF': 'sum',\n",
    "    'GiDP': 'sum',\n",
    "    'age': 'mean',\n",
    "    'PA': 'sum',\n",
    "    'B1': 'sum',\n",
    "    'TB': 'sum',\n",
    "    'SBA': 'sum',\n",
    "    'XBH': 'sum',\n",
    "    'TOB': 'sum',\n",
    "    'RP': 'sum'\n",
    "}).reset_index()\n",
    "\n",
    "career_df['age'] = career_df['age'].round(0).astype(int)"
   ]
  },
  {
   "cell_type": "code",
   "execution_count": null,
   "metadata": {},
   "outputs": [],
   "source": [
    "#create rows for 162 Game Avg.\n",
    "avg162_df = career_df.drop(['rowType'], axis=1 ).copy()\n",
    "stat_cols = avg162_df.columns.difference(['playerID', 'age', 'Years'])\n",
    "avg162_df[stat_cols] = avg162_df[avg162_df['G'] > 0][stat_cols].div(avg162_df['G'], axis=0).mul(162).round(2)\n",
    "avg162_df.insert(0, 'rowType', '162Avg')"
   ]
  },
  {
   "cell_type": "code",
   "execution_count": null,
   "metadata": {},
   "outputs": [],
   "source": [
    "#create rows for 600 PA Avg.\n",
    "norm_df = career_df.drop(['rowType'], axis=1).copy()\n",
    "stat_cols = norm_df.columns.difference(['playerID', 'age', 'Years'])\n",
    "norm_df[stat_cols] = norm_df[norm_df['PA'] > 0][stat_cols].div(norm_df['PA'], axis=0).mul(600).round(2)\n",
    "norm_df.insert(0, 'rowType', 'normalized')"
   ]
  },
  {
   "cell_type": "code",
   "execution_count": null,
   "metadata": {},
   "outputs": [],
   "source": [
    "season_df = batting.copy()\n",
    "season_df.insert(0, 'rowType', 'season')\n",
    "career_df.insert(0, 'rowType', 'career')\n",
    "\n",
    "most_hitting = pd.concat([season_df, career_df, avg162_df, norm_df], ignore_index=True)\n",
    "\n",
    "most_hitting = BasicHitting.battingRatios(most_hitting) "
   ]
  },
  {
   "cell_type": "code",
   "execution_count": null,
   "metadata": {},
   "outputs": [],
   "source": [
    "#create rows for season average\n",
    "season_avg_df = most_hitting[most_hitting['rowType'] == 'season'].copy()\n",
    "season_avg_df = season_avg_df.drop(['rowType'], axis=1).groupby(['playerID']).mean().round(4).reset_index()\n",
    "\n",
    "season_avg_df['age'] = season_avg_df['age'].round(0).astype(int)\n",
    "season_avg_df['Years'] = season_avg_df['Years'].round(0).astype(int)\n",
    "season_avg_df.insert(0, 'rowType', 'seasAvg')\n",
    "\n",
    "final_hitting = pd.concat([most_hitting, season_avg_df], ignore_index=True)\n"
   ]
  },
  {
   "cell_type": "code",
   "execution_count": null,
   "metadata": {},
   "outputs": [],
   "source": [
    "load_dotenv()\n",
    "\n",
    "db_user=os.getenv('jbbs_db_user')\n",
    "db_pass=os.getenv('jbbs_db_password')\n",
    "db_host=os.getenv('jbbs_db_host')\n",
    "db_name=os.getenv('jbbs_db_name')\n",
    "\n",
    "engine = create_engine(\n",
    "    f'mysql+mysqlconnector://{db_user}:{db_pass}@{db_host}/{db_name}',\n",
    "    echo=False,\n",
    "    pool_size=5,      # Maximum number of connections in the pool\n",
    "    max_overflow=0,   # Prevents creating more connections than `pool_size`\n",
    "    pool_recycle=600,\n",
    "    pool_pre_ping=True\n",
    ")\n",
    "\n",
    "with engine.connect() as conn:\n",
    "    conn.rollback() \n",
    "    final_hitting.to_sql('player_hitting_new', con=engine, if_exists='replace', index=False, chunksize=500)\n",
    "    conn.execute(text('create index idx_playerid on player_hitting_new(playerID);'))\n",
    "    conn.execute(text('create index idx_rowType on player_hitting_new(rowType);'))\n",
    "    conn.execute(text('create index idx_age on player_hitting_new(age);'))\n",
    "    conn.execute(text('create index idx_years on player_hitting_new(Years);'))\n"
   ]
  }
 ],
 "metadata": {
  "kernelspec": {
   "display_name": ".venv",
   "language": "python",
   "name": "python3"
  },
  "language_info": {
   "codemirror_mode": {
    "name": "ipython",
    "version": 3
   },
   "file_extension": ".py",
   "mimetype": "text/x-python",
   "name": "python",
   "nbconvert_exporter": "python",
   "pygments_lexer": "ipython3",
   "version": "3.9.2"
  }
 },
 "nbformat": 4,
 "nbformat_minor": 2
}
