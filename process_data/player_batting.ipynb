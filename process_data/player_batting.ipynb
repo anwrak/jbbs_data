{
 "cells": [
  {
   "cell_type": "code",
   "execution_count": 1,
   "metadata": {},
   "outputs": [],
   "source": [
    "import pandas as pd\n",
    "import numpy as np\n",
    "from datetime import datetime\n",
    "from dateutil.relativedelta import relativedelta\n",
    "import sys \n",
    "sys.path.append('../maths/') \n",
    "from baseball_stats import BasicHitting\n"
   ]
  },
  {
   "cell_type": "code",
   "execution_count": 2,
   "metadata": {},
   "outputs": [],
   "source": [
    "k = ['playerID', 'birthYear', 'birthMonth', 'birthDay']\n",
    "import_people = pd.read_csv('../datafiles/People.csv', encoding='latin-1', usecols=k)\n",
    "import_batting = pd.read_csv('../datafiles/Batting.csv', encoding='latin-1')\n",
    "people = import_people.copy()\n",
    "\n",
    "#fix fucky dates\n",
    "people['birthYear'] = people['birthYear'].fillna(1875).astype(int)\n",
    "people['birthMonth'] = people['birthMonth'].fillna(1).astype(int)\n",
    "people['birthDay'] = people['birthDay'].fillna(1).astype(int)\n",
    "\n",
    "#create a birthdate column so we can calulate an age at start of season\n",
    "people['birthdate'] = people.apply(lambda x: f\"\"\"{x['birthYear']}-{x['birthMonth']}-{x['birthDay']}\"\"\", axis=1)\n",
    "people['birthdate'] = pd.to_datetime(people['birthdate'], errors='coerce')\n",
    "\n",
    "#merge the people and batting dataframes\n",
    "batting = people.merge(import_batting, on='playerID', how ='inner')\n"
   ]
  },
  {
   "cell_type": "code",
   "execution_count": null,
   "metadata": {},
   "outputs": [
    {
     "ename": "AttributeError",
     "evalue": "type object 'BasicHitting' has no attribute 'calc'",
     "output_type": "error",
     "traceback": [
      "\u001b[0;31m---------------------------------------------------------------------------\u001b[0m",
      "\u001b[0;31mAttributeError\u001b[0m                            Traceback (most recent call last)",
      "Cell \u001b[0;32mIn[3], line 31\u001b[0m\n\u001b[1;32m     29\u001b[0m season_batting[\u001b[38;5;124m'\u001b[39m\u001b[38;5;124mISO\u001b[39m\u001b[38;5;124m'\u001b[39m] \u001b[38;5;241m=\u001b[39m BasicHitting\u001b[38;5;241m.\u001b[39mcalc_iso(season_batting)\n\u001b[1;32m     30\u001b[0m season_batting[\u001b[38;5;124m'\u001b[39m\u001b[38;5;124mGPA\u001b[39m\u001b[38;5;124m'\u001b[39m] \u001b[38;5;241m=\u001b[39m BasicHitting\u001b[38;5;241m.\u001b[39mcalc_gpa(season_batting)\n\u001b[0;32m---> 31\u001b[0m season_batting[\u001b[38;5;124m'\u001b[39m\u001b[38;5;124mRC\u001b[39m\u001b[38;5;124m'\u001b[39m] \u001b[38;5;241m=\u001b[39m \u001b[43mBasicHitting\u001b[49m\u001b[38;5;241;43m.\u001b[39;49m\u001b[43mcalc_rc\u001b[49m\u001b[43m(\u001b[49m\u001b[43mseason_batting\u001b[49m\u001b[43m)\u001b[49m\n\u001b[1;32m     32\u001b[0m season_batting[\u001b[38;5;124m'\u001b[39m\u001b[38;5;124mBR\u001b[39m\u001b[38;5;124m'\u001b[39m] \u001b[38;5;241m=\u001b[39m BasicHitting\u001b[38;5;241m.\u001b[39mcalc_br(season_batting)\n\u001b[1;32m     33\u001b[0m season_batting[\u001b[38;5;124m'\u001b[39m\u001b[38;5;124mSBP\u001b[39m\u001b[38;5;124m'\u001b[39m] \u001b[38;5;241m=\u001b[39m BasicHitting\u001b[38;5;241m.\u001b[39mcalc_sbp(season_batting)\n",
      "File \u001b[0;32m~/Documents/development/jbbs/process_data/../maths/baseball_stats.py:105\u001b[0m, in \u001b[0;36mBasicHitting.calc_rc\u001b[0;34m(df)\u001b[0m\n\u001b[1;32m    102\u001b[0m \u001b[38;5;129m@staticmethod\u001b[39m\n\u001b[1;32m    103\u001b[0m \u001b[38;5;66;03m#runs created\u001b[39;00m\n\u001b[1;32m    104\u001b[0m \u001b[38;5;28;01mdef\u001b[39;00m \u001b[38;5;21mcalc_rc\u001b[39m(df):\n\u001b[0;32m--> 105\u001b[0m     TOP \u001b[38;5;241m=\u001b[39m (df[\u001b[38;5;124m'\u001b[39m\u001b[38;5;124mH\u001b[39m\u001b[38;5;124m'\u001b[39m] \u001b[38;5;241m+\u001b[39m df[\u001b[38;5;124m'\u001b[39m\u001b[38;5;124mBB\u001b[39m\u001b[38;5;124m'\u001b[39m]) \u001b[38;5;241m*\u001b[39m \u001b[43mBasicHitting\u001b[49m\u001b[38;5;241;43m.\u001b[39;49m\u001b[43mcalc\u001b[49m\n\u001b[1;32m    106\u001b[0m     BTM \u001b[38;5;241m=\u001b[39m \u001b[38;5;241m9\u001b[39m \u001b[38;5;241m*\u001b[39m C\n\u001b[1;32m    107\u001b[0m     \u001b[38;5;28;01mreturn\u001b[39;00m np\u001b[38;5;241m.\u001b[39mwhere(BTM \u001b[38;5;241m>\u001b[39m \u001b[38;5;241m0\u001b[39m, (TOP \u001b[38;5;241m/\u001b[39m BTM) \u001b[38;5;241m*\u001b[39m (\u001b[38;5;241m0.9\u001b[39m \u001b[38;5;241m*\u001b[39m C), \u001b[38;5;241m0\u001b[39m)\n",
      "\u001b[0;31mAttributeError\u001b[0m: type object 'BasicHitting' has no attribute 'calc'"
     ]
    }
   ],
   "source": [
    "#TODO: create as function to do career and either 162 game or 600 pa stats\n",
    "season_batting = batting.copy()\n",
    "season_batting = season_batting.drop(columns=['stint', 'teamID', 'lgID', 'birthYear', 'birthMonth', 'birthDay', 'G_old', 'G_batting']).groupby(['playerID', 'birthdate', 'yearID']).sum().reset_index()\n",
    "#estimate the start of the season at april 1\n",
    "season_batting['season_start'] = season_batting.apply(lambda x: f\"\"\"{x['yearID']}-04-01\"\"\", axis=1)\n",
    "season_batting['season_start'] = pd.to_datetime(season_batting['season_start'], errors='coerce')\n",
    "\n",
    "#calculate the age of the player at the start of the season\n",
    "season_batting['age'] = season_batting.apply(lambda x: relativedelta(x['season_start'], x['birthdate']).years, axis=1)\n",
    "\n",
    "season_batting.rename(columns={'3B':'B3', '2B':'B2'}, inplace=True)\n",
    "\n",
    "#adding shit up\n",
    "season_batting['PA'] = BasicHitting.calc_pa(season_batting)\n",
    "season_batting['B1'] = BasicHitting.calc_b1(season_batting)\n",
    "season_batting['TB'] = BasicHitting.calc_tb(season_batting)\n",
    "season_batting['SBA'] = BasicHitting.calc_sba(season_batting)\n",
    "season_batting['BA'] = BasicHitting.calc_ba(season_batting)\n",
    "season_batting['XBH'] = BasicHitting.calc_xbh(season_batting)\n",
    "season_batting['TOB'] = BasicHitting.calc_tob(season_batting)\n",
    "season_batting['RP'] = BasicHitting.calc_rp(season_batting)\n",
    "\n",
    "#ratios and percentages\n",
    "season_batting['HRAB'] = BasicHitting.calc_hrab(season_batting)\n",
    "season_batting['HRH'] = BasicHitting.calc_hrh(season_batting)\n",
    "season_batting['OBP'] = BasicHitting.calc_obp(season_batting)\n",
    "season_batting['SLG'] = BasicHitting.calc_slg(season_batting)\n",
    "season_batting['OPS'] = BasicHitting.calc_ops(season_batting)\n",
    "season_batting['EQA'] = BasicHitting.calc_eqa(season_batting)\n",
    "season_batting['ISO'] = BasicHitting.calc_iso(season_batting)\n",
    "season_batting['GPA'] = BasicHitting.calc_gpa(season_batting)\n",
    "season_batting['RC'] = BasicHitting.calc_rc(season_batting)\n",
    "season_batting['BR'] = BasicHitting.calc_br(season_batting)\n",
    "season_batting['SBP'] = BasicHitting.calc_sbp(season_batting)\n",
    "season_batting['TA'] = BasicHitting.calc_ta(season_batting)\n",
    "season_batting['BABIP'] = BasicHitting.calc_babip(season_batting)\n",
    "\n",
    "#TODO:pa per so\n",
    "#TODO:bb per strikeout\n",
    "#TODO:extra base hit pct\n",
    "\n",
    "\n",
    "\n",
    "season_batting"
   ]
  },
  {
   "cell_type": "code",
   "execution_count": null,
   "metadata": {},
   "outputs": [],
   "source": [
    "#TODO: combine and export to csv"
   ]
  }
 ],
 "metadata": {
  "kernelspec": {
   "display_name": ".venv",
   "language": "python",
   "name": "python3"
  },
  "language_info": {
   "codemirror_mode": {
    "name": "ipython",
    "version": 3
   },
   "file_extension": ".py",
   "mimetype": "text/x-python",
   "name": "python",
   "nbconvert_exporter": "python",
   "pygments_lexer": "ipython3",
   "version": "3.11.9"
  }
 },
 "nbformat": 4,
 "nbformat_minor": 2
}
